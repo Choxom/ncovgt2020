{
 "cells": [
  {
   "cell_type": "markdown",
   "metadata": {},
   "source": [
    "# Analisis basico de datos corona virus Guatemala 2020"
   ]
  },
  {
   "cell_type": "code",
   "execution_count": 20,
   "metadata": {},
   "outputs": [],
   "source": [
    "import pandas as pd\n",
    "import numpy as np\n",
    "import matplotlib.pyplot as plt\n"
   ]
  },
  {
   "cell_type": "code",
   "execution_count": 24,
   "metadata": {},
   "outputs": [
    {
     "name": "stdout",
     "output_type": "stream",
     "text": [
      "<class 'pandas.core.frame.DataFrame'>\n",
      "RangeIndex: 1 entries, 0 to 0\n",
      "Data columns (total 14 columns):\n",
      " #   Column              Non-Null Count  Dtype         \n",
      "---  ------              --------------  -----         \n",
      " 0   id                  1 non-null      int64         \n",
      " 1   sexo                1 non-null      object        \n",
      " 2   fecha_nacimiento    1 non-null      datetime64[ns]\n",
      " 3   pais                1 non-null      object        \n",
      " 4   departamento        1 non-null      object        \n",
      " 5   enfermedad          1 non-null      object        \n",
      " 6   grupo               1 non-null      int64         \n",
      " 7   razon_infeccion     1 non-null      object        \n",
      " 8   infectado_por       1 non-null      int64         \n",
      " 9   fecha_confirmacion  1 non-null      datetime64[ns]\n",
      " 10  fecha_recuperacion  0 non-null      datetime64[ns]\n",
      " 11  fecha_desceso       0 non-null      datetime64[ns]\n",
      " 12  estado              1 non-null      int64         \n",
      " 13  fuente              1 non-null      object        \n",
      "dtypes: datetime64[ns](4), int64(4), object(6)\n",
      "memory usage: 240.0+ bytes\n",
      "None\n"
     ]
    }
   ],
   "source": [
    "dir_pacientes = '../data/pacientes.csv'\n",
    "pacientes = pd.read_csv(dir_pacientes, header = 0, parse_dates = True)\n",
    "\n",
    "# dar formato a fechas\n",
    "cols_fecha = [\"fecha_nacimiento\",\"fecha_confirmacion\", \"fecha_recuperacion\", \"fecha_desceso\"]\n",
    "for col in cols_fecha:\n",
    "    pacientes[col] = pd.to_datetime(pacientes[col])\n",
    "\n",
    "# mostrar columnas y tipo de dato\n",
    "print(pacientes.info())"
   ]
  },
  {
   "cell_type": "code",
   "execution_count": 25,
   "metadata": {},
   "outputs": [
    {
     "name": "stdout",
     "output_type": "stream",
     "text": [
      "   id       sexo fecha_nacimiento       pais departamento   enfermedad  grupo  \\\n",
      "0   1  masculino       1992-01-01  guatemala    guatemala  desconocido      1   \n",
      "\n",
      "                          razon_infeccion  infectado_por fecha_confirmacion  \\\n",
      "0  Viaje Italia/Madrid/Bogota/SanSalvador            -99         2020-03-13   \n",
      "\n",
      "  fecha_recuperacion fecha_desceso  estado  \\\n",
      "0                NaT           NaT       0   \n",
      "\n",
      "                                              fuente  \n",
      "0  https://web.archive.org/web/20200315072155/htt...  \n"
     ]
    }
   ],
   "source": [
    "# mostrar algunos datos\n",
    "print(pacientes.head())"
   ]
  },
  {
   "cell_type": "code",
   "execution_count": null,
   "metadata": {},
   "outputs": [],
   "source": []
  },
  {
   "cell_type": "code",
   "execution_count": null,
   "metadata": {},
   "outputs": [],
   "source": []
  }
 ],
 "metadata": {
  "kernelspec": {
   "display_name": "Python 3",
   "language": "python",
   "name": "python3"
  },
  "language_info": {
   "codemirror_mode": {
    "name": "ipython",
    "version": 3
   },
   "file_extension": ".py",
   "mimetype": "text/x-python",
   "name": "python",
   "nbconvert_exporter": "python",
   "pygments_lexer": "ipython3",
   "version": "3.6.8"
  }
 },
 "nbformat": 4,
 "nbformat_minor": 4
}
