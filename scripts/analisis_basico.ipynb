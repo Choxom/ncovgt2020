{
 "cells": [
  {
   "cell_type": "markdown",
   "metadata": {},
   "source": [
    "# Analisis basico de datos corona virus Guatemala 2020"
   ]
  },
  {
   "cell_type": "code",
   "execution_count": 39,
   "metadata": {},
   "outputs": [],
   "source": [
    "import pandas as pd\n",
    "import numpy as np\n",
    "import matplotlib.pyplot as plt\n"
   ]
  },
  {
   "cell_type": "code",
   "execution_count": 40,
   "metadata": {},
   "outputs": [
    {
     "name": "stdout",
     "output_type": "stream",
     "text": [
      "<class 'pandas.core.frame.DataFrame'>\n",
      "RangeIndex: 2 entries, 0 to 1\n",
      "Data columns (total 15 columns):\n",
      " #   Column              Non-Null Count  Dtype         \n",
      "---  ------              --------------  -----         \n",
      " 0   id                  2 non-null      int64         \n",
      " 1   sexo                2 non-null      object        \n",
      " 2   fecha_nacimiento    2 non-null      datetime64[ns]\n",
      " 3   edad                2 non-null      int64         \n",
      " 4   pais                2 non-null      object        \n",
      " 5   departamento        2 non-null      object        \n",
      " 6   enfermedad          2 non-null      object        \n",
      " 7   grupo               2 non-null      int64         \n",
      " 8   razon_infeccion     2 non-null      object        \n",
      " 9   infectado_por       2 non-null      int64         \n",
      " 10  fecha_confirmacion  2 non-null      datetime64[ns]\n",
      " 11  fecha_recuperacion  0 non-null      datetime64[ns]\n",
      " 12  fecha_desceso       1 non-null      datetime64[ns]\n",
      " 13  estado              2 non-null      int64         \n",
      " 14  fuente              2 non-null      object        \n",
      "dtypes: datetime64[ns](4), int64(5), object(6)\n",
      "memory usage: 368.0+ bytes\n",
      "None\n"
     ]
    }
   ],
   "source": [
    "dir_pacientes = '../data/pacientes.csv'\n",
    "pacientes = pd.read_csv(dir_pacientes, header = 0, parse_dates = True)\n",
    "\n",
    "# dar formato a fechas\n",
    "cols_fecha = [\"fecha_nacimiento\",\"fecha_confirmacion\", \"fecha_recuperacion\", \"fecha_desceso\"]\n",
    "for col in cols_fecha:\n",
    "    pacientes[col] = pd.to_datetime(pacientes[col], yearfirst = True)\n",
    "\n",
    "# mostrar columnas y tipo de dato\n",
    "print(pacientes.info())"
   ]
  },
  {
   "cell_type": "code",
   "execution_count": 41,
   "metadata": {},
   "outputs": [
    {
     "name": "stdout",
     "output_type": "stream",
     "text": [
      "   id sexo fecha_nacimiento  edad       pais departamento   enfermedad  grupo  \\\n",
      "0   1    m       1993-01-01    27  guatemala    guatemala  desconocido      1   \n",
      "1   2    m       1935-01-01    85  guatemala    guatemala  desconocido      2   \n",
      "\n",
      "                          razon_infeccion  infectado_por fecha_confirmacion  \\\n",
      "0  Viaje Italia/Madrid/Bogota/SanSalvador            -99         2020-03-13   \n",
      "1              Viaje Espana/Suiza/Francia            -99         2020-03-15   \n",
      "\n",
      "  fecha_recuperacion fecha_desceso  estado  \\\n",
      "0                NaT           NaT       0   \n",
      "1                NaT    2020-03-15       2   \n",
      "\n",
      "                                              fuente  \n",
      "0  https://web.archive.org/web/20200315072155/htt...  \n",
      "1  https://scontent-gmp1-1.xx.fbcdn.net/v/t1.0-9/...  \n"
     ]
    }
   ],
   "source": [
    "# mostrar algunos datos\n",
    "print(pacientes.head())"
   ]
  },
  {
   "cell_type": "markdown",
   "metadata": {},
   "source": [
    "## Datos cumulativos y diarios \n",
    "\n",
    "Se muestran la cantidad de pacientes confirmados, recuperados y fallecidos a lo largo del tiempo."
   ]
  },
  {
   "cell_type": "code",
   "execution_count": 58,
   "metadata": {},
   "outputs": [
    {
     "name": "stdout",
     "output_type": "stream",
     "text": [
      "2020-03-13    1\n",
      "2020-03-15    1\n",
      "Name: fecha_confirmacion, dtype: int64\n"
     ]
    },
    {
     "data": {
      "text/plain": [
       "<matplotlib.legend.Legend at 0x7f91664eaba8>"
      ]
     },
     "execution_count": 58,
     "metadata": {},
     "output_type": "execute_result"
    },
    {
     "data": {
      "image/png": "[encoded data removed]",
      "text/plain": [
       "<Figure size 360x360 with 1 Axes>"
      ]
     },
     "metadata": {
      "needs_background": "light"
     },
     "output_type": "display_data"
    }
   ],
   "source": [
    "fig1 = plt.figure(figsize=(5,5))\n",
    "fig1ax1 = fig1.add_subplot(1,1,1)\n",
    "fig1ax1.set_title('Casos confirmados')\n",
    "confirmados = pacientes['fecha_confirmacion'].value_counts()\n",
    "confirmados.cumsum().plot(ax = fig1ax1, color = 'r', label = 'acumulados', marker='.',markersize=10)\n",
    "confirmados.plot(ax = fig1ax1, color = 'b', label = 'diarios', marker='x',markersize=10)\n",
    "fig1ax1.set_xticks(confirmados.index.to_list())\n",
    "fig1ax1.set_yticks(range(min(confirmados),max(confirmados)+2))\n",
    "fig1ax1.legend(loc=\"best\")"
   ]
  },
  {
   "cell_type": "code",
   "execution_count": 63,
   "metadata": {},
   "outputs": [
    {
     "data": {
      "text/plain": [
       "<matplotlib.legend.Legend at 0x7f91660d4f98>"
      ]
     },
     "execution_count": 63,
     "metadata": {},
     "output_type": "execute_result"
    },
    {
     "data": {
      "image/png": "[encoded data removed]",
      "text/plain": [
       "<Figure size 360x360 with 1 Axes>"
      ]
     },
     "metadata": {
      "needs_background": "light"
     },
     "output_type": "display_data"
    }
   ],
   "source": [
    "fig2 = plt.figure(figsize=(5,5))\n",
    "fig2ax1 = fig2.add_subplot(1,1,1)\n",
    "fig2ax1.set_title('Casos recuperados')\n",
    "recuperados = pacientes['fecha_recuperacion'].value_counts()\n",
    "recuperados.cumsum().plot(ax = fig2ax1, color = 'r', label = 'acumulados', marker='.',markersize=10)\n",
    "recuperados.plot(ax = fig2ax1, color = 'b', label = 'diarios', marker='x',markersize=10)\n",
    "fig2ax1.set_xticks(recuperados.index.to_list())\n",
    "#fig2ax1.set_yticks((range(min(recuperados),max(recuperados)+2)))\n",
    "fig2ax1.legend(loc = \"best\")"
   ]
  },
  {
   "cell_type": "code",
   "execution_count": 64,
   "metadata": {},
   "outputs": [
    {
     "data": {
      "text/plain": [
       "<matplotlib.legend.Legend at 0x7f91660b9e80>"
      ]
     },
     "execution_count": 64,
     "metadata": {},
     "output_type": "execute_result"
    },
    {
     "data": {
      "image/png": "[encoded data removed]",
      "text/plain": [
       "<Figure size 360x360 with 1 Axes>"
      ]
     },
     "metadata": {
      "needs_background": "light"
     },
     "output_type": "display_data"
    }
   ],
   "source": [
    "fig3 = plt.figure(figsize=(5,5))\n",
    "fig3ax1 = fig3.add_subplot(1,1,1)\n",
    "fig3ax1.set_title('Casos fallecidos')\n",
    "fallecidos = pacientes['fecha_desceso'].value_counts()\n",
    "fallecidos.cumsum().plot(ax = fig3ax1, color = 'r', label = 'acumulados', marker='.',markersize=10)\n",
    "fallecidos.plot(ax = fig3ax1, color = 'b', label = 'diarios', marker='x',markersize=10)\n",
    "fig3ax1.set_xticks(fallecidos.index.to_list())\n",
    "fig2ax1.set_yticks((range(min(fallecidos),max(fallecidos)+2)))\n",
    "fig3ax1.legend(loc = 'best')"
   ]
  },
  {
   "cell_type": "markdown",
   "metadata": {},
   "source": [
    "## Datos por sexo \n",
    "Pacientes confirmados, recuperados y fallecidos, agregados por sexo."
   ]
  },
  {
   "cell_type": "code",
   "execution_count": 45,
   "metadata": {},
   "outputs": [
    {
     "data": {
      "text/plain": [
       "<matplotlib.axes._subplots.AxesSubplot at 0x7f916670e9e8>"
      ]
     },
     "execution_count": 45,
     "metadata": {},
     "output_type": "execute_result"
    },
    {
     "data": {
      "image/png": "[encoded data removed]",
      "text/plain": [
       "<Figure size 360x360 with 1 Axes>"
      ]
     },
     "metadata": {},
     "output_type": "display_data"
    }
   ],
   "source": [
    "# Obtener casos confirmados\n",
    "confirmados = pacientes[[ not pd.isna(i) for i in pacientes['fecha_confirmacion']]]\n",
    "confirmados['sexo'].value_counts().plot.pie(y='sexo', legend = True, autopct='%.2f', figsize = (5,5), title = 'Confirmados por sexo')"
   ]
  },
  {
   "cell_type": "code",
   "execution_count": 46,
   "metadata": {},
   "outputs": [
    {
     "data": {
      "text/plain": [
       "<matplotlib.axes._subplots.AxesSubplot at 0x7f9166b967f0>"
      ]
     },
     "execution_count": 46,
     "metadata": {},
     "output_type": "execute_result"
    },
    {
     "data": {
      "image/png": "[encoded data removed]",
      "text/plain": [
       "<Figure size 360x360 with 1 Axes>"
      ]
     },
     "metadata": {},
     "output_type": "display_data"
    }
   ],
   "source": [
    "recuperados = pacientes[[ not pd.isna(i) for i in pacientes['fecha_recuperacion']]]\n",
    "recuperados['sexo'].value_counts().plot.pie(y='sexo', legend = True, autopct='%.2f', figsize = (5,5), title = 'Recuperados por sexo')"
   ]
  },
  {
   "cell_type": "code",
   "execution_count": 47,
   "metadata": {},
   "outputs": [
    {
     "data": {
      "text/plain": [
       "<matplotlib.axes._subplots.AxesSubplot at 0x7f9166a1d048>"
      ]
     },
     "execution_count": 47,
     "metadata": {},
     "output_type": "execute_result"
    },
    {
     "data": {
      "image/png": "[encoded data removed]",
      "text/plain": [
       "<Figure size 360x360 with 1 Axes>"
      ]
     },
     "metadata": {},
     "output_type": "display_data"
    }
   ],
   "source": [
    "fallecidos = pacientes[[ not pd.isna(i) for i in pacientes['fecha_desceso']]]\n",
    "fallecidos['sexo'].value_counts().plot.pie(y='sexo', legend = True, autopct='%.2f', figsize = (5,5), title = 'Fallecidos por sexo')"
   ]
  },
  {
   "cell_type": "code",
   "execution_count": null,
   "metadata": {},
   "outputs": [],
   "source": []
  },
  {
   "cell_type": "code",
   "execution_count": null,
   "metadata": {},
   "outputs": [],
   "source": []
  }
 ],
 "metadata": {
  "kernelspec": {
   "display_name": "Python 3",
   "language": "python",
   "name": "python3"
  },
  "language_info": {
   "codemirror_mode": {
    "name": "ipython",
    "version": 3
   },
   "file_extension": ".py",
   "mimetype": "text/x-python",
   "name": "python",
   "nbconvert_exporter": "python",
   "pygments_lexer": "ipython3",
   "version": "3.6.8"
  }
 },
 "nbformat": 4,
 "nbformat_minor": 4
}
