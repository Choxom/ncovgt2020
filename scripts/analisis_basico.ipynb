{
 "cells": [
  {
   "cell_type": "markdown",
   "metadata": {},
   "source": [
    "# Analisis basico de datos corona virus Guatemala 2020"
   ]
  },
  {
   "cell_type": "code",
   "execution_count": 15,
   "metadata": {},
   "outputs": [],
   "source": [
    "import pandas as pd\n",
    "import numpy as np\n",
    "import matplotlib.pyplot as plt\n"
   ]
  },
  {
   "cell_type": "code",
   "execution_count": 16,
   "metadata": {},
   "outputs": [
    {
     "name": "stdout",
     "output_type": "stream",
     "text": [
      "<class 'pandas.core.frame.DataFrame'>\n",
      "RangeIndex: 9 entries, 0 to 8\n",
      "Data columns (total 15 columns):\n",
      " #   Column              Non-Null Count  Dtype         \n",
      "---  ------              --------------  -----         \n",
      " 0   id                  9 non-null      int64         \n",
      " 1   sexo                9 non-null      object        \n",
      " 2   fecha_nacimiento    9 non-null      datetime64[ns]\n",
      " 3   edad                9 non-null      int64         \n",
      " 4   pais                9 non-null      object        \n",
      " 5   departamento        9 non-null      object        \n",
      " 6   enfermedad          9 non-null      object        \n",
      " 7   grupo               9 non-null      int64         \n",
      " 8   razon_infeccion     9 non-null      object        \n",
      " 9   infectado_por       9 non-null      int64         \n",
      " 10  fecha_confirmacion  9 non-null      datetime64[ns]\n",
      " 11  fecha_recuperacion  0 non-null      datetime64[ns]\n",
      " 12  fecha_deceso        1 non-null      datetime64[ns]\n",
      " 13  estado              9 non-null      int64         \n",
      " 14  fuente              9 non-null      object        \n",
      "dtypes: datetime64[ns](4), int64(5), object(6)\n",
      "memory usage: 1.2+ KB\n",
      "None\n"
     ]
    }
   ],
   "source": [
    "dir_pacientes = '../data/pacientes.csv'\n",
    "pacientes = pd.read_csv(dir_pacientes, header = 0, parse_dates = True)\n",
    "\n",
    "# dar formato a fechas\n",
    "cols_fecha = [\"fecha_nacimiento\",\"fecha_confirmacion\", \"fecha_recuperacion\", \"fecha_deceso\"]\n",
    "for col in cols_fecha:\n",
    "    pacientes[col] = pd.to_datetime(pacientes[col], yearfirst = True)\n",
    "\n",
    "# mostrar columnas y tipo de dato\n",
    "print(pacientes.info())"
   ]
  },
  {
   "cell_type": "code",
   "execution_count": 17,
   "metadata": {},
   "outputs": [
    {
     "name": "stdout",
     "output_type": "stream",
     "text": [
      "   id sexo fecha_nacimiento  edad         pais  departamento   enfermedad  \\\n",
      "0   1    m       1993-01-01    27    guatemala     guatemala  desconocido   \n",
      "1   2    m       1935-01-01    85    guatemala     guatemala  desconocido   \n",
      "2   3    m       1963-01-01    57    guatemala     guatemala  desconocido   \n",
      "3   4    m       1988-01-01    32    guatemala     guatemala  desconocido   \n",
      "4   5    f       1985-01-01    35  desconocido  Sacatepequez  desconocido   \n",
      "\n",
      "   grupo                         razon_infeccion  infectado_por  \\\n",
      "0      1  Viaje Italia/Madrid/Bogota/SanSalvador            -99   \n",
      "1      2              Viaje Espana/Suiza/Francia            -99   \n",
      "2      3                     contacto paciente 2              2   \n",
      "3    -99             Viaje Inglaterra/Nueva York            -99   \n",
      "4    -99                         Viaje Australia            -99   \n",
      "\n",
      "  fecha_confirmacion fecha_recuperacion fecha_deceso  estado  \\\n",
      "0         2020-03-13                NaT          NaT       0   \n",
      "1         2020-03-15                NaT   2020-03-15       2   \n",
      "2         2020-03-18                NaT          NaT       0   \n",
      "3         2020-03-16                NaT          NaT       0   \n",
      "4         2020-03-16                NaT          NaT       0   \n",
      "\n",
      "                                              fuente  \n",
      "0  https://web.archive.org/web/20200315072155/htt...  \n",
      "1  https://scontent-gmp1-1.xx.fbcdn.net/v/t1.0-9/...  \n",
      "2  https://web.archive.org/web/20200317035922/htt...  \n",
      "3  https://web.archive.org/web/20200317035922/htt...  \n",
      "4  https://web.archive.org/web/20200317035922/htt...  \n"
     ]
    }
   ],
   "source": [
    "# mostrar algunos datos\n",
    "print(pacientes.head())"
   ]
  },
  {
   "cell_type": "markdown",
   "metadata": {},
   "source": [
    "# Estadisticas "
   ]
  },
  {
   "cell_type": "code",
   "execution_count": 25,
   "metadata": {},
   "outputs": [
    {
     "name": "stdout",
     "output_type": "stream",
     "text": [
      "Confirmados: 9\n",
      "Recuperados: 0\n",
      "Fallecidos: 1\n"
     ]
    }
   ],
   "source": [
    "confirmados = pacientes['fecha_confirmacion'].value_counts().sort_index()\n",
    "recuperados = pacientes['fecha_recuperacion'].value_counts().sort_index()\n",
    "fallecidos = pacientes['fecha_deceso'].value_counts().sort_index()\n",
    "print(\"Confirmados: {}\".format(confirmados.sum()))\n",
    "print(\"Recuperados: {}\".format(recuperados.sum()))\n",
    "print(\"Fallecidos: {}\".format(fallecidos.sum()))"
   ]
  },
  {
   "cell_type": "markdown",
   "metadata": {},
   "source": [
    "## Datos cumulativos y diarios \n",
    "\n",
    "Se muestran la cantidad de pacientes confirmados, recuperados y fallecidos a lo largo del tiempo."
   ]
  },
  {
   "cell_type": "code",
   "execution_count": 19,
   "metadata": {},
   "outputs": [
    {
     "data": {
      "image/png": "[encoded data removed]",
      "text/plain": [
       "<Figure size 360x360 with 1 Axes>"
      ]
     },
     "metadata": {
      "needs_background": "light"
     },
     "output_type": "display_data"
    }
   ],
   "source": [
    "fig1 = plt.figure(figsize=(5,5))\n",
    "fig1ax1 = fig1.add_subplot(1,1,1)\n",
    "fig1ax1.set_title('Casos confirmados')\n",
    "confirmados.cumsum().plot(ax = fig1ax1, color = 'r', label = 'acumulados', marker='.',markersize=10)\n",
    "confirmados.plot(ax = fig1ax1, color = 'b', label = 'diarios', marker='x',markersize=10)\n",
    "fig1ax1.set_xticks(confirmados.index.to_list())\n",
    "fig1ax1.set_yticks(range(confirmados.sum()+2))\n",
    "fig1ax1.legend(loc=\"best\")\n",
    "fig1.savefig(\"../imgs/confirmados.png\")"
   ]
  },
  {
   "cell_type": "code",
   "execution_count": 20,
   "metadata": {},
   "outputs": [
    {
     "data": {
      "image/png": "[encoded data removed]",
      "text/plain": [
       "<Figure size 360x360 with 1 Axes>"
      ]
     },
     "metadata": {
      "needs_background": "light"
     },
     "output_type": "display_data"
    }
   ],
   "source": [
    "fig2 = plt.figure(figsize=(5,5))\n",
    "fig2ax1 = fig2.add_subplot(1,1,1)\n",
    "fig2ax1.set_title('Casos recuperados')\n",
    "recuperados.cumsum().plot(ax = fig2ax1, color = 'r', label = 'acumulados', marker='.',markersize=10)\n",
    "recuperados.plot(ax = fig2ax1, color = 'b', label = 'diarios', marker='x',markersize=10)\n",
    "fig2ax1.set_xticks(recuperados.index.to_list())\n",
    "#fig2ax1.set_yticks((range(min(recuperados),max(recuperados)+2)))\n",
    "fig2ax1.legend(loc = \"best\")\n",
    "fig2.savefig(\"../imgs/recuperados.png\")"
   ]
  },
  {
   "cell_type": "code",
   "execution_count": 21,
   "metadata": {},
   "outputs": [
    {
     "data": {
      "image/png": "[encoded data removed]",
      "text/plain": [
       "<Figure size 360x360 with 1 Axes>"
      ]
     },
     "metadata": {
      "needs_background": "light"
     },
     "output_type": "display_data"
    }
   ],
   "source": [
    "fig3 = plt.figure(figsize=(5,5))\n",
    "fig3ax1 = fig3.add_subplot(1,1,1)\n",
    "fig3ax1.set_title('Casos fallecidos')\n",
    "fallecidos.cumsum().plot(ax = fig3ax1, color = 'r', label = 'acumulados', marker='.',markersize=10)\n",
    "fallecidos.plot(ax = fig3ax1, color = 'b', label = 'diarios', marker='x',markersize=10)\n",
    "fig3ax1.set_xticks(fallecidos.index.to_list())\n",
    "fig2ax1.set_yticks(range(fallecidos.sum()+2))\n",
    "fig3ax1.legend(loc = 'best')\n",
    "fig3.savefig(\"../imgs/fallecidos.png\")"
   ]
  },
  {
   "cell_type": "markdown",
   "metadata": {},
   "source": [
    "## Datos por sexo \n",
    "Pacientes confirmados, recuperados y fallecidos, agregados por sexo."
   ]
  },
  {
   "cell_type": "code",
   "execution_count": 22,
   "metadata": {},
   "outputs": [
    {
     "data": {
      "text/plain": [
       "<matplotlib.axes._subplots.AxesSubplot at 0x7fa6c74d0a58>"
      ]
     },
     "execution_count": 22,
     "metadata": {},
     "output_type": "execute_result"
    },
    {
     "data": {
      "image/png": "[encoded data removed]",
      "text/plain": [
       "<Figure size 360x360 with 1 Axes>"
      ]
     },
     "metadata": {},
     "output_type": "display_data"
    }
   ],
   "source": [
    "# Obtener casos confirmados\n",
    "confirmados = pacientes[[ not pd.isna(i) for i in pacientes['fecha_confirmacion']]]\n",
    "confirmados['sexo'].value_counts().plot.pie(y='sexo', legend = True, autopct='%.2f', figsize = (5,5), title = 'Confirmados por sexo')"
   ]
  },
  {
   "cell_type": "code",
   "execution_count": 23,
   "metadata": {},
   "outputs": [
    {
     "data": {
      "text/plain": [
       "<matplotlib.axes._subplots.AxesSubplot at 0x7fa6c74c7dd8>"
      ]
     },
     "execution_count": 23,
     "metadata": {},
     "output_type": "execute_result"
    },
    {
     "data": {
      "image/png": "[encoded data removed]",
      "text/plain": [
       "<Figure size 360x360 with 1 Axes>"
      ]
     },
     "metadata": {},
     "output_type": "display_data"
    }
   ],
   "source": [
    "recuperados = pacientes[[ not pd.isna(i) for i in pacientes['fecha_recuperacion']]]\n",
    "recuperados['sexo'].value_counts().plot.pie(y='sexo', legend = True, autopct='%.2f', figsize = (5,5), title = 'Recuperados por sexo')"
   ]
  },
  {
   "cell_type": "code",
   "execution_count": 24,
   "metadata": {},
   "outputs": [
    {
     "data": {
      "text/plain": [
       "<matplotlib.axes._subplots.AxesSubplot at 0x7fa6c75f5470>"
      ]
     },
     "execution_count": 24,
     "metadata": {},
     "output_type": "execute_result"
    },
    {
     "data": {
      "image/png": "[encoded data removed]",
      "text/plain": [
       "<Figure size 360x360 with 1 Axes>"
      ]
     },
     "metadata": {},
     "output_type": "display_data"
    }
   ],
   "source": [
    "fallecidos = pacientes[[ not pd.isna(i) for i in pacientes['fecha_deceso']]]\n",
    "fallecidos['sexo'].value_counts().plot.pie(y='sexo', legend = True, autopct='%.2f', figsize = (5,5), title = 'Fallecidos por sexo')"
   ]
  },
  {
   "cell_type": "code",
   "execution_count": null,
   "metadata": {},
   "outputs": [],
   "source": []
  },
  {
   "cell_type": "code",
   "execution_count": null,
   "metadata": {},
   "outputs": [],
   "source": []
  }
 ],
 "metadata": {
  "kernelspec": {
   "display_name": "Python 3",
   "language": "python",
   "name": "python3"
  },
  "language_info": {
   "codemirror_mode": {
    "name": "ipython",
    "version": 3
   },
   "file_extension": ".py",
   "mimetype": "text/x-python",
   "name": "python",
   "nbconvert_exporter": "python",
   "pygments_lexer": "ipython3",
   "version": "3.6.8"
  }
 },
 "nbformat": 4,
 "nbformat_minor": 4
}
